{
 "cells": [
  {
   "cell_type": "code",
   "execution_count": 2,
   "metadata": {},
   "outputs": [],
   "source": [
    "import ezdxf\n",
    "\n",
    "# create a new DXF R2010 document\n",
    "doc = ezdxf.new(\"R2010\")\n",
    "\n",
    "# add new entities to the modelspace\n",
    "msp = doc.modelspace()\n",
    "# add a LINE entity\n",
    "msp.add_line((0, 0), (10, 0))\n",
    "# save the DXF document\n",
    "doc.saveas(\"line.dxf\")"
   ]
  },
  {
   "cell_type": "code",
   "execution_count": 46,
   "metadata": {},
   "outputs": [
    {
     "name": "stdout",
     "output_type": "stream",
     "text": [
      "#      Sheer\n",
      "33       NaN\n",
      "32    1-10-2\n",
      "30     1-8-6\n",
      "28     1-7-7\n",
      "26     1-7-2\n",
      "24     1-7-0\n",
      "22     1-6-7\n",
      "20     1-7-1\n",
      "18     1-7-6\n",
      "16     1-8-5\n",
      "14     1-9-5\n",
      "12    1-11-0\n",
      "10     2-0-6\n",
      "8      2-2-5\n",
      "6      2-4-7\n",
      "4      2-7-2\n",
      "2     2-10-0\n",
      "0      3-0-7\n",
      "Name: 0, dtype: object\n"
     ]
    }
   ],
   "source": [
    "#\n",
    "#\n",
    "#\n",
    "\n",
    "import pandas as pd\n",
    "import numpy as nm\n",
    "\n",
    "df = pd.read_csv('../sample_data/offset_table.csv')\n",
    "\n",
    "#print(df.to_string()) \n",
    "\n",
    "sheer_offsets = df.loc[0]\n",
    "print(sheer_offsets)"
   ]
  },
  {
   "cell_type": "code",
   "execution_count": 34,
   "metadata": {},
   "outputs": [
    {
     "name": "stdout",
     "output_type": "stream",
     "text": [
      "{'33': 0, '32': 12, '30': 36, '28': 60, '26': 84, '24': 108, '22': 132, '20': 156, '18': 180, '16': 204, '14': 228, '12': 252, '10': 276, '8': 300, '6': 324, '4': 348, '2': 372, '0': 396}\n"
     ]
    }
   ],
   "source": [
    "station_positions = {}\n",
    "for c in df.columns:\n",
    "    if c == '#':\n",
    "        pass\n",
    "    else:\n",
    "        assert(c.isdecimal()) \n",
    "        station_positions[c] = (33 - int(c)) * 12 # 1' == 12 \" (inches)\n",
    "print(station_positions)"
   ]
  },
  {
   "cell_type": "code",
   "execution_count": 36,
   "metadata": {},
   "outputs": [
    {
     "name": "stdout",
     "output_type": "stream",
     "text": [
      "33\n",
      "32\n",
      "30\n",
      "28\n",
      "26\n",
      "24\n",
      "22\n",
      "20\n",
      "18\n",
      "16\n",
      "14\n",
      "12\n",
      "10\n",
      "8\n",
      "6\n",
      "4\n",
      "2\n",
      "0\n"
     ]
    }
   ],
   "source": [
    "def draw_sheer (df, station_positions):\n",
    "    '''create a dxf file with the sheer line'''\n",
    "    # create a new DXF R2010 document\n",
    "    doc = ezdxf.new(\"R2010\")\n",
    "\n",
    "    # add new entities to the modelspace\n",
    "    msp = doc.modelspace()\n",
    "    # add a LINE entity\n",
    "    #msp.add_line((0, 0), (10, 0))\n",
    "    # save the DXF document\n",
    "    for c in df.columns:\n",
    "        if c.isdecimal():\n",
    "            print(c)\n",
    "\n",
    "    doc.saveas(\"sheer_line.dxf\")\n",
    "\n",
    "\n",
    "draw_sheer(df, station_positions)"
   ]
  },
  {
   "cell_type": "code",
   "execution_count": 37,
   "metadata": {},
   "outputs": [
    {
     "name": "stdout",
     "output_type": "stream",
     "text": [
      "create_dxf.py  import_sample_data.ipynb  line.dxf  sheer_line.dxf\n"
     ]
    }
   ],
   "source": [
    "!dir"
   ]
  },
  {
   "cell_type": "code",
   "execution_count": null,
   "metadata": {},
   "outputs": [],
   "source": []
  }
 ],
 "metadata": {
  "kernelspec": {
   "display_name": "Python 3",
   "language": "python",
   "name": "python3"
  },
  "language_info": {
   "codemirror_mode": {
    "name": "ipython",
    "version": 3
   },
   "file_extension": ".py",
   "mimetype": "text/x-python",
   "name": "python",
   "nbconvert_exporter": "python",
   "pygments_lexer": "ipython3",
   "version": "3.12.3"
  }
 },
 "nbformat": 4,
 "nbformat_minor": 2
}
