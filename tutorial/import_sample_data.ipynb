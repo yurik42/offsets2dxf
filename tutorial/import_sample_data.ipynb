{
 "cells": [
  {
   "cell_type": "code",
   "execution_count": 1,
   "metadata": {},
   "outputs": [],
   "source": [
    "import ezdxf\n",
    "\n",
    "# create a new DXF R2010 document\n",
    "doc = ezdxf.new(\"R2010\")\n",
    "\n",
    "# add new entities to the modelspace\n",
    "msp = doc.modelspace()\n",
    "# add a LINE entity\n",
    "msp.add_line((0, 0), (10, 0))\n",
    "# save the DXF document\n",
    "doc.saveas(\"line.dxf\")"
   ]
  },
  {
   "cell_type": "code",
   "execution_count": null,
   "metadata": {},
   "outputs": [],
   "source": [
    "#\n",
    "#\n",
    "#\n",
    "\n",
    "import pandas as pd\n",
    "import numpy as nm\n",
    "\n",
    "df = pd.read_csv('../sample_data/offset_table.csv')\n",
    "\n",
    "#print(df.to_string()) \n",
    "\n",
    "sheer_offsets = df.loc[0]\n",
    "print(sheer_offsets)"
   ]
  },
  {
   "cell_type": "code",
   "execution_count": null,
   "metadata": {},
   "outputs": [],
   "source": [
    "station_positions = {}\n",
    "for c in df.columns:\n",
    "    if c == '#':\n",
    "        pass\n",
    "    else:\n",
    "        assert(c.isdecimal()) \n",
    "        station_positions[c] = (33 - int(c)) * 12 # 1' == 12 \" (inches)\n",
    "print(station_positions)"
   ]
  },
  {
   "cell_type": "code",
   "execution_count": null,
   "metadata": {},
   "outputs": [],
   "source": [
    "def draw_sheer (df, station_positions):\n",
    "    '''create a dxf file with the sheer line'''\n",
    "    # create a new DXF R2010 document\n",
    "    doc = ezdxf.new(\"R2010\")\n",
    "\n",
    "    # add new entities to the modelspace\n",
    "    msp = doc.modelspace()\n",
    "    # add a LINE entity\n",
    "    #msp.add_line((0, 0), (10, 0))\n",
    "    # save the DXF document\n",
    "    for c in df.columns:\n",
    "        if c.isdecimal():\n",
    "            print(c)\n",
    "\n",
    "    doc.saveas(\"sheer_line.dxf\")\n",
    "\n",
    "\n",
    "draw_sheer(df, station_positions)"
   ]
  },
  {
   "cell_type": "code",
   "execution_count": null,
   "metadata": {},
   "outputs": [],
   "source": [
    "!dir"
   ]
  },
  {
   "cell_type": "code",
   "execution_count": null,
   "metadata": {},
   "outputs": [],
   "source": []
  }
 ],
 "metadata": {
  "kernelspec": {
   "display_name": ".venv",
   "language": "python",
   "name": "python3"
  },
  "language_info": {
   "codemirror_mode": {
    "name": "ipython",
    "version": 3
   },
   "file_extension": ".py",
   "mimetype": "text/x-python",
   "name": "python",
   "nbconvert_exporter": "python",
   "pygments_lexer": "ipython3",
   "version": "3.10.11"
  }
 },
 "nbformat": 4,
 "nbformat_minor": 2
}
