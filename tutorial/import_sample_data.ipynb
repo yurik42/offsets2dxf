{
 "cells": [
  {
   "cell_type": "code",
   "execution_count": 2,
   "metadata": {},
   "outputs": [],
   "source": [
    "import ezdxf\n",
    "\n",
    "# create a new DXF R2010 document\n",
    "doc = ezdxf.new(\"R2010\")\n",
    "\n",
    "# add new entities to the modelspace\n",
    "msp = doc.modelspace()\n",
    "# add a LINE entity\n",
    "msp.add_line((0, 0), (10, 0))\n",
    "# save the DXF document\n",
    "doc.saveas(\"line.dxf\")"
   ]
  },
  {
   "cell_type": "code",
   "execution_count": 28,
   "metadata": {},
   "outputs": [
    {
     "name": "stdout",
     "output_type": "stream",
     "text": [
      "#      Sheer\n",
      "33       NaN\n",
      "32    1-10-2\n",
      "30     1-8-6\n",
      "28     1-7-7\n",
      "Name: 0, dtype: object\n",
      "<class 'pandas.core.series.Series'>\n",
      "nan\n",
      "#      B 3'\n",
      "33      NaN\n",
      "32      NaN\n",
      "30    1-8-6\n",
      "28    0-9-6\n",
      "Name: 1, dtype: object\n",
      "             #     33      32     30     28      26      24      22  \\\n",
      "0        Sheer    NaN  1-10-2  1-8-6  1-7-7   1-7-2   1-7-0   1-6-7   \n",
      "1         B 3'    NaN     NaN  1-8-6  0-9-6  0-3-4-   0-0-7   0-4-4   \n",
      "2         B 2'  1-3-6   1-1-4  0-7-7  0-2-5   0-2-3   0-7-1  0-11-0   \n",
      "3         B 1'  1-0-3   0-9-6  0-3-4  0-2-0   0-7-6   1-1-4   1-6-4   \n",
      "4       Rabbet  0-9-6  0-6-4-  0-0-2  0-6-5   1-4-0   2-9-2   4-2-4   \n",
      "5      Profile  0-9-2  0-6-0-  0-0-6  0-7-2   3-9-7  4-10-3  4-11-7   \n",
      "6    1/2w Deck    NaN     NaN  3-0-0  3-4-2   3-8-1  3-10-7   4-0-7   \n",
      "7      WL + 2'    NaN     NaN    NaN    NaN     NaN     NaN     NaN   \n",
      "8      WL + 1'    NaN     NaN  2-7-3  3-1-4   3-6-5  3-10-1   4-0-6   \n",
      "9      WL + 6\"    NaN     NaN  1-7-0  2-7-2   3-2-7   3-7-4  3-10-6   \n",
      "10         LWL    NaN     NaN  0-2-4  1-5-2   2-5-6   3-1-4   3-6-3   \n",
      "11     WL - 6\"    NaN     NaN    NaN  0-3-0   1-3-5   2-2-0   2-9-1   \n",
      "12     WL - 1'    NaN     NaN    NaN    NaN   0-5-0   1-2-0  1-10-0   \n",
      "13     WL - 2'    NaN     NaN    NaN    NaN   0-1-0   0-3-7   0-7-4   \n",
      "14     WL - 3'    NaN     NaN    NaN    NaN     NaN   0-1-2   0-3-2   \n",
      "15     WL - 4'    NaN     NaN    NaN    NaN     NaN     NaN   0-2-0   \n",
      "16      Rabbet    NaN     NaN    NaN    NaN   0-2-2   0-2-1   0-2-0   \n",
      "17     Profile    NaN     NaN    NaN    NaN   0-0-3   0-0-6   0-1-0   \n",
      "18  Diagonal 1    NaN     NaN    NaN    NaN   0-3-4   0-9-0   1-1-0   \n",
      "19         D 2    NaN     NaN  0-1-2  0-7-2   1-1-2   1-6-0  1-10-2   \n",
      "20         D 3    NaN   2-1-0  2-7-4  3-1-0   3-6-1  3-10-0   4-1-0   \n",
      "\n",
      "                 20               18               16               14  \\\n",
      "0             1-7-1            1-7-6            1-8-5            1-9-5   \n",
      "1             0-7-0            0-8-4            0-8-3            0-6-6   \n",
      "2             1-1-7            1-3-5            1-4-3            1-3-1   \n",
      "3            1-10-6            2-1-7            2-3-2            2-2-2   \n",
      "4             4-0-0            3-9-0            3-6-4            3-5-1   \n",
      "5            4-11-2           4-10-4            4-9-6  4-3-0 and 4-8-4   \n",
      "6             4-2-3            4-3-0            4-2-7            4-2-1   \n",
      "7               NaN              NaN              NaN              NaN   \n",
      "8             4-2-3            4-2-5            4-2-2            4-0-6   \n",
      "9             4-0-5            4-1-1            4-0-5           3-11-1   \n",
      "10            3-8-6            3-2-6            3-9-4            3-7-3   \n",
      "11            3-1-2            3-3-1            3-3-2            3-0-7   \n",
      "12            2-3-4            2-6-0            2-6-4            2-4-6   \n",
      "13           0-10-6            1-1-3            1-2-4            1-1-6   \n",
      "14            0-5-4            0-7-0            0-7-6            0-0-7   \n",
      "15            0-4-0            0-5-5            0-6-0            0-4-0   \n",
      "16            0-3-2            0-5-6            0-6-2            0-3-2   \n",
      "17  0-2-0 and 0-3-0  0-3-0 and 0-4-6  0-3-2 and 0-5-0            0-0-0   \n",
      "18            1-4-2            1-6-2            1-7-0            1-6-3   \n",
      "19            2-1-1            2-2-6            2-3-6            2-2-7   \n",
      "20            4-3-0            4-3-4            4-3-4            4-2-0   \n",
      "\n",
      "        12      10       8       6       4       2       0  \n",
      "0   1-11-0   2-0-6   2-2-5   2-4-7   2-7-2  2-10-0   3-0-7  \n",
      "1    0-3-0   0-2-5   1-2-6   2-6-5     NaN     NaN     NaN  \n",
      "2    1-0-4   0-8-4   0-1-5  0-8-6+   2-0-6     NaN     NaN  \n",
      "3   1-10-7   1-6-5   1-0-6  0-5-3+   0-6-0   2-1-0     NaN  \n",
      "4    3-2-4   2-7-2   2-0-7   1-5-6  0-10-2   0-4-0  2-11-3  \n",
      "5    3-6-7   2-8-6   2-2-1   1-7-3   1-0-4   0-0-0   2-0-0  \n",
      "6    4-0-1   3-9-0   3-4-7  2-11-3   2-3-5   1-5-1   0-2-7  \n",
      "7      NaN   3-8-7   3-4-6   2-9-3  1-11-9  0-11-3     NaN  \n",
      "8   3-10-1   3-5-4  2-10-6   2-2-2   1-3-6   0-4-6     NaN  \n",
      "9    3-7-6   3-2-4   2-6-6   1-9-6  0-11-6   0-2-1     NaN  \n",
      "10   3-3-1   2-9-4   2-1-6   1-4-6   0-7-7   0-0-6     NaN  \n",
      "11   2-8-1   2-2-6   1-7-2  0-11-2   0-4-0     NaN     NaN  \n",
      "12   2-0-6   1-7-3   1-0-5   0-6-2   0-0-7     NaN     NaN  \n",
      "13  0-11-0   0-7-3   0-2-2     NaN     NaN     NaN     NaN  \n",
      "14   0-4-1     NaN     NaN     NaN     NaN     NaN     NaN  \n",
      "15     NaN     NaN     NaN     NaN     NaN     NaN     NaN  \n",
      "16   0-3-0   0-1-6   0-1-6   0-1-6   0-1-6   0-1-6   0-1-6  \n",
      "17   0-0-0   0-0-4   0-0-4   0-0-4   0-0-4   0-0-4   0-1-2  \n",
      "18   1-4-2   1-1-2   0-9-2   0-4-6   0-0-6     NaN     NaN  \n",
      "19   2-0-6  1-10-0   1-5-5   1-0-4   0-6-7   0-0-0     NaN  \n",
      "20  3-11-0   3-6-4   3-0-2   2-4-7   1-8-0  0-10-1     NaN  \n"
     ]
    }
   ],
   "source": [
    "#\n",
    "#\n",
    "#\n",
    "\n",
    "import pandas as pd\n",
    "import numpy as nm\n",
    "\n",
    "df = pd.read_csv('../sample_data/offset_table.csv')\n",
    "\n",
    "#print(df.to_string()) \n",
    "\n",
    "sheer_offsets = df.loc[0]\n",
    "print(sheer_offsets[0:5])\n",
    "print(type(sheer_offsets))\n",
    "print(sheer_offsets[\"33\"])\n",
    "\n",
    "line2_offsets = df.loc[1]\n",
    "print(line2_offsets[0:5])\n",
    "\n",
    "print(df)"
   ]
  },
  {
   "cell_type": "code",
   "execution_count": null,
   "metadata": {},
   "outputs": [],
   "source": [
    "station_positions = {}\n",
    "for c in df.columns:\n",
    "    if c == '#':\n",
    "        pass\n",
    "    else:\n",
    "        assert(c.isdecimal()) \n",
    "        station_positions[c] = (33 - int(c)) * 12 # 1' == 12 \" (inches)\n",
    "print(station_positions)"
   ]
  },
  {
   "cell_type": "code",
   "execution_count": null,
   "metadata": {},
   "outputs": [],
   "source": [
    "def draw_sheer (df, station_positions):\n",
    "    '''create a dxf file with the sheer line'''\n",
    "    # create a new DXF R2010 document\n",
    "    doc = ezdxf.new(\"R2010\")\n",
    "\n",
    "    # add new entities to the modelspace\n",
    "    msp = doc.modelspace()\n",
    "    # add a LINE entity\n",
    "    #msp.add_line((0, 0), (10, 0))\n",
    "    # save the DXF document\n",
    "    for c in df.columns:\n",
    "        if c.isdecimal():\n",
    "            print(c)\n",
    "\n",
    "    doc.saveas(\"sheer_line.dxf\")\n",
    "\n",
    "\n",
    "draw_sheer(df, station_positions)"
   ]
  },
  {
   "cell_type": "code",
   "execution_count": 21,
   "metadata": {},
   "outputs": [
    {
     "name": "stdout",
     "output_type": "stream",
     "text": [
      "/home/yyk/src/offsets2dxf-bmg/tutorial\n"
     ]
    }
   ],
   "source": [
    "import sys\n",
    "import os\n",
    "\n",
    "print(os.getcwd())\n"
   ]
  },
  {
   "cell_type": "code",
   "execution_count": 26,
   "metadata": {},
   "outputs": [
    {
     "name": "stdout",
     "output_type": "stream",
     "text": [
      "sheer_line:\n",
      " [(12, 22.25), (36, 20.75), (60, 19.875), (84, 19.25), (108, 19.0), (132, 18.875), (156, 19.125), (180, 19.75), (204, 20.625), (228, 21.625), (252, 23.0), (276, 24.75), (300, 26.625), (324, 28.875), (348, 31.25), (372, 34.0), (396, 36.875)]\n"
     ]
    }
   ],
   "source": [
    "import context\n",
    "from context import table_of_offsets\n",
    "\n",
    "model = table_of_offsets.Model(\"../sample_data/offset_table.csv\")\n",
    "\n",
    "sheer_line = model.loft_sheer()\n",
    "print(\"sheer_line:\\n\", sheer_line)"
   ]
  },
  {
   "cell_type": "code",
   "execution_count": null,
   "metadata": {},
   "outputs": [],
   "source": []
  }
 ],
 "metadata": {
  "kernelspec": {
   "display_name": ".venv",
   "language": "python",
   "name": "python3"
  },
  "language_info": {
   "codemirror_mode": {
    "name": "ipython",
    "version": 3
   },
   "file_extension": ".py",
   "mimetype": "text/x-python",
   "name": "python",
   "nbconvert_exporter": "python",
   "pygments_lexer": "ipython3",
   "version": "3.12.3"
  }
 },
 "nbformat": 4,
 "nbformat_minor": 2
}
